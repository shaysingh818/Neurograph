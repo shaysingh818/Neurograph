{
 "cells": [
  {
   "cell_type": "code",
   "execution_count": 15,
   "metadata": {},
   "outputs": [],
   "source": [
    "from ngraph import Graph, QueueService"
   ]
  },
  {
   "cell_type": "markdown",
   "metadata": {},
   "source": [
    "# Creating a Graph\n",
    "* Create an instance of a adjacency list representation of a graph\n",
    "* Invoke algorithms on graph construct"
   ]
  },
  {
   "cell_type": "code",
   "execution_count": 16,
   "metadata": {},
   "outputs": [],
   "source": [
    "graph = Graph(7)\n",
    "graph.add_node(0, \"A\", 1, \"B\", 2)\n",
    "graph.add_node(0, \"A\", 2, \"C\", 6)\n",
    "graph.add_node(1, \"B\", 3, \"D\", 5)\n",
    "graph.add_node(2, \"C\", 3, \"D\", 8)\n",
    "graph.add_node(3, \"D\", 4, \"E\", 10)\n",
    "graph.add_node(3, \"D\", 5, \"F\", 15)\n",
    "graph.add_node(4, \"E\", 5, \"F\", 6)\n",
    "graph.add_node(5, \"F\", 6, \"G\", 6)\n",
    "graph.add_node(4, \"E\", 6, \"G\", 2)"
   ]
  },
  {
   "cell_type": "code",
   "execution_count": 18,
   "metadata": {},
   "outputs": [],
   "source": [
    "import sys\n",
    "sys.stdout = open('/dev/stdout', 'w')\n",
    "graph.print_graph()"
   ]
  },
  {
   "cell_type": "markdown",
   "metadata": {},
   "source": [
    "## Pathfinding\n",
    "* Get distances from root node for all vertices\n",
    "* Print out nodes with results"
   ]
  },
  {
   "cell_type": "code",
   "execution_count": 5,
   "metadata": {},
   "outputs": [
    {
     "name": "stdout",
     "output_type": "stream",
     "text": [
      "Node: 0\n",
      "Node: 2\n",
      "Node: 6\n",
      "Node: 7\n",
      "Node: 17\n",
      "Node: 22\n",
      "Node: 19\n"
     ]
    }
   ],
   "source": [
    "result = graph.dijkstra(start_vertex=0)\n",
    "for i in range(graph.vertices):\n",
    "    print(f\"Node: {result[i]}\")"
   ]
  },
  {
   "cell_type": "code",
   "execution_count": 6,
   "metadata": {},
   "outputs": [
    {
     "data": {
      "text/plain": [
       "7"
      ]
     },
     "execution_count": 6,
     "metadata": {},
     "output_type": "execute_result"
    }
   ],
   "source": [
    "shortest = graph.shortest_path(0, 3)\n",
    "shortest"
   ]
  },
  {
   "cell_type": "code",
   "execution_count": 8,
   "metadata": {},
   "outputs": [
    {
     "data": {
      "text/plain": [
       "<ngraph.graph.LP_Walk at 0x7f05686b39c0>"
      ]
     },
     "execution_count": 8,
     "metadata": {},
     "output_type": "execute_result"
    }
   ],
   "source": [
    "walk_results = graph.weighted_random_walk(start_vertex=0, steps=10)\n",
    "walk_results"
   ]
  },
  {
   "cell_type": "markdown",
   "metadata": {},
   "source": [
    "## Searching\n",
    "* Breadth/Depth First Search\n"
   ]
  },
  {
   "cell_type": "code",
   "execution_count": 11,
   "metadata": {},
   "outputs": [
    {
     "data": {
      "text/plain": [
       "<ngraph.graph.LP_Queue at 0x7f056872a1c0>"
      ]
     },
     "execution_count": 11,
     "metadata": {},
     "output_type": "execute_result"
    }
   ],
   "source": [
    "bfs_results = graph.bfs(start_vertex=0)\n",
    "bfs_results"
   ]
  },
  {
   "cell_type": "code",
   "execution_count": 14,
   "metadata": {},
   "outputs": [],
   "source": [
    "queue = QueueService(capacity=7)\n",
    "bfs_results = graph.dfs(start_vertex=0, queue_service=queue)\n",
    "queue.print_queue()"
   ]
  },
  {
   "cell_type": "code",
   "execution_count": null,
   "metadata": {},
   "outputs": [],
   "source": []
  }
 ],
 "metadata": {
  "kernelspec": {
   "display_name": "Python 3",
   "language": "python",
   "name": "python3"
  },
  "language_info": {
   "codemirror_mode": {
    "name": "ipython",
    "version": 3
   },
   "file_extension": ".py",
   "mimetype": "text/x-python",
   "name": "python",
   "nbconvert_exporter": "python",
   "pygments_lexer": "ipython3",
   "version": "3.8.10"
  }
 },
 "nbformat": 4,
 "nbformat_minor": 4
}
