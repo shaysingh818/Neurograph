{
 "cells": [
  {
   "cell_type": "markdown",
   "metadata": {},
   "source": [
    "# Diffusion\n",
    "* A open source graph analytics library for ML and data engineers!\n",
    "* Notebooks below explain how to use the library\n",
    "* Current library is on Version 0.2.0"
   ]
  },
  {
   "cell_type": "code",
   "execution_count": 9,
   "metadata": {},
   "outputs": [],
   "source": [
    "from dg import (\n",
    "    init_graph,\n",
    "    graph_serialize,\n",
    "    add_node,\n",
    "    graph_to_csv\n",
    ")\n",
    "\n",
    "from pprint import pprint\n",
    "import pandas as pd\n",
    "import os"
   ]
  },
  {
   "cell_type": "markdown",
   "metadata": {},
   "source": [
    "## Creating a Graph\n",
    "* Initliaze a graph using adjacency list\n",
    "* Add nodes and relationships\n",
    "* View the results"
   ]
  },
  {
   "cell_type": "code",
   "execution_count": 4,
   "metadata": {},
   "outputs": [],
   "source": [
    "graph = init_graph(\n",
    "    vertice_count=10,\n",
    "    directed=False\n",
    ")\n",
    "result = graph_serialize(graph)"
   ]
  },
  {
   "cell_type": "code",
   "execution_count": 5,
   "metadata": {},
   "outputs": [
    {
     "data": {
      "text/plain": [
       "{'vertice_count': 10,\n",
       " 'edge_count': 10,\n",
       " 'visited_nodes': [],\n",
       " 'directed': False,\n",
       " 'err': False,\n",
       " 'edges': [],\n",
       " 'items': {0: [],\n",
       "  1: [],\n",
       "  2: [],\n",
       "  3: [],\n",
       "  4: [],\n",
       "  5: [],\n",
       "  6: [],\n",
       "  7: [],\n",
       "  8: [],\n",
       "  9: []}}"
      ]
     },
     "execution_count": 5,
     "metadata": {},
     "output_type": "execute_result"
    }
   ],
   "source": [
    "result"
   ]
  },
  {
   "cell_type": "code",
   "execution_count": 6,
   "metadata": {},
   "outputs": [
    {
     "data": {
      "text/plain": [
       "True"
      ]
     },
     "execution_count": 6,
     "metadata": {},
     "output_type": "execute_result"
    }
   ],
   "source": [
    "add_node(graph, 0, \"A\", 1, \"B\", 0) \n",
    "add_node(graph, 0, \"A\", 2, \"C\", 0)\n",
    "add_node(graph, 0, \"A\", 3, \"D\", 0)\n",
    "add_node(graph, 1, \"B\", 2, \"C\", 0)\n",
    "add_node(graph, 4, \"E\", 2, \"C\", 0)"
   ]
  },
  {
   "cell_type": "code",
   "execution_count": 7,
   "metadata": {},
   "outputs": [],
   "source": [
    "result = graph_serialize(graph)"
   ]
  },
  {
   "cell_type": "code",
   "execution_count": 8,
   "metadata": {},
   "outputs": [
    {
     "data": {
      "text/plain": [
       "{'vertice_count': 10,\n",
       " 'edge_count': 10,\n",
       " 'visited_nodes': [],\n",
       " 'directed': False,\n",
       " 'err': False,\n",
       " 'edges': [],\n",
       " 'items': {0: [b'B', b'C', b'D'],\n",
       "  1: [b'A', b'C'],\n",
       "  2: [b'A', b'B', b'E'],\n",
       "  3: [b'A'],\n",
       "  4: [b'C'],\n",
       "  5: [],\n",
       "  6: [],\n",
       "  7: [],\n",
       "  8: [],\n",
       "  9: []}}"
      ]
     },
     "execution_count": 8,
     "metadata": {},
     "output_type": "execute_result"
    }
   ],
   "source": [
    "result"
   ]
  },
  {
   "cell_type": "markdown",
   "metadata": {},
   "source": [
    "# Importing Data\n",
    "* select features\n",
    "* Import data to a graph using a csv file\n",
    "* View serialized graph"
   ]
  },
  {
   "cell_type": "code",
   "execution_count": 10,
   "metadata": {},
   "outputs": [],
   "source": [
    "df = pd.read_csv(\"../data/power_generation.csv\")"
   ]
  },
  {
   "cell_type": "code",
   "execution_count": 11,
   "metadata": {},
   "outputs": [
    {
     "data": {
      "text/html": [
       "<div>\n",
       "<style scoped>\n",
       "    .dataframe tbody tr th:only-of-type {\n",
       "        vertical-align: middle;\n",
       "    }\n",
       "\n",
       "    .dataframe tbody tr th {\n",
       "        vertical-align: top;\n",
       "    }\n",
       "\n",
       "    .dataframe thead th {\n",
       "        text-align: right;\n",
       "    }\n",
       "</style>\n",
       "<table border=\"1\" class=\"dataframe\">\n",
       "  <thead>\n",
       "    <tr style=\"text-align: right;\">\n",
       "      <th></th>\n",
       "      <th>Dates</th>\n",
       "      <th>Power Station</th>\n",
       "      <th>Monitored Cap.(MW)</th>\n",
       "      <th>Total Cap. Under Maintenace (MW)</th>\n",
       "      <th>Planned Maintanence (MW)</th>\n",
       "      <th>Forced Maintanence(MW)</th>\n",
       "      <th>Other Reasons (MW)</th>\n",
       "      <th>Programme or Expected(MU)</th>\n",
       "      <th>Actual(MU)</th>\n",
       "      <th>Excess(+) / Shortfall (-)</th>\n",
       "      <th>Deviation</th>\n",
       "    </tr>\n",
       "  </thead>\n",
       "  <tbody>\n",
       "    <tr>\n",
       "      <th>0</th>\n",
       "      <td>2017-09-01</td>\n",
       "      <td>Delhi</td>\n",
       "      <td>2235.4</td>\n",
       "      <td>135.00</td>\n",
       "      <td>0.00</td>\n",
       "      <td>135.0</td>\n",
       "      <td>0</td>\n",
       "      <td>13</td>\n",
       "      <td>18</td>\n",
       "      <td>5.00</td>\n",
       "      <td>0.0</td>\n",
       "    </tr>\n",
       "    <tr>\n",
       "      <th>1</th>\n",
       "      <td>2017-09-01</td>\n",
       "      <td>Haryana</td>\n",
       "      <td>2720.0</td>\n",
       "      <td>2470.00</td>\n",
       "      <td>0.00</td>\n",
       "      <td>2470.0</td>\n",
       "      <td>0</td>\n",
       "      <td>28</td>\n",
       "      <td>7</td>\n",
       "      <td>-21.80</td>\n",
       "      <td>0.0</td>\n",
       "    </tr>\n",
       "    <tr>\n",
       "      <th>2</th>\n",
       "      <td>2017-09-01</td>\n",
       "      <td>Himachal Pradesh</td>\n",
       "      <td>3378.0</td>\n",
       "      <td>379.00</td>\n",
       "      <td>0.00</td>\n",
       "      <td>231.0</td>\n",
       "      <td>0</td>\n",
       "      <td>40</td>\n",
       "      <td>46</td>\n",
       "      <td>5.63</td>\n",
       "      <td>0.0</td>\n",
       "    </tr>\n",
       "    <tr>\n",
       "      <th>3</th>\n",
       "      <td>2017-09-01</td>\n",
       "      <td>Jammu and Kashmir</td>\n",
       "      <td>1285.0</td>\n",
       "      <td>150.00</td>\n",
       "      <td>0.00</td>\n",
       "      <td>0.0</td>\n",
       "      <td>0</td>\n",
       "      <td>14</td>\n",
       "      <td>23</td>\n",
       "      <td>9.43</td>\n",
       "      <td>0.0</td>\n",
       "    </tr>\n",
       "    <tr>\n",
       "      <th>4</th>\n",
       "      <td>2017-09-01</td>\n",
       "      <td>Punjab</td>\n",
       "      <td>3826.3</td>\n",
       "      <td>2697.65</td>\n",
       "      <td>77.65</td>\n",
       "      <td>2620.0</td>\n",
       "      <td>0</td>\n",
       "      <td>39</td>\n",
       "      <td>17</td>\n",
       "      <td>-21.69</td>\n",
       "      <td>0.0</td>\n",
       "    </tr>\n",
       "  </tbody>\n",
       "</table>\n",
       "</div>"
      ],
      "text/plain": [
       "        Dates      Power Station  Monitored Cap.(MW)  \\\n",
       "0  2017-09-01              Delhi              2235.4   \n",
       "1  2017-09-01            Haryana              2720.0   \n",
       "2  2017-09-01   Himachal Pradesh              3378.0   \n",
       "3  2017-09-01  Jammu and Kashmir              1285.0   \n",
       "4  2017-09-01             Punjab              3826.3   \n",
       "\n",
       "   Total Cap. Under Maintenace (MW)  Planned Maintanence (MW)  \\\n",
       "0                            135.00                      0.00   \n",
       "1                           2470.00                      0.00   \n",
       "2                            379.00                      0.00   \n",
       "3                            150.00                      0.00   \n",
       "4                           2697.65                     77.65   \n",
       "\n",
       "   Forced Maintanence(MW)  Other Reasons (MW)  Programme or Expected(MU)  \\\n",
       "0                   135.0                   0                         13   \n",
       "1                  2470.0                   0                         28   \n",
       "2                   231.0                   0                         40   \n",
       "3                     0.0                   0                         14   \n",
       "4                  2620.0                   0                         39   \n",
       "\n",
       "   Actual(MU)  Excess(+) / Shortfall (-)  Deviation  \n",
       "0          18                       5.00        0.0  \n",
       "1           7                     -21.80        0.0  \n",
       "2          46                       5.63        0.0  \n",
       "3          23                       9.43        0.0  \n",
       "4          17                     -21.69        0.0  "
      ]
     },
     "execution_count": 11,
     "metadata": {},
     "output_type": "execute_result"
    }
   ],
   "source": [
    "df.head()"
   ]
  },
  {
   "cell_type": "code",
   "execution_count": 12,
   "metadata": {},
   "outputs": [
    {
     "data": {
      "text/html": [
       "<div>\n",
       "<style scoped>\n",
       "    .dataframe tbody tr th:only-of-type {\n",
       "        vertical-align: middle;\n",
       "    }\n",
       "\n",
       "    .dataframe tbody tr th {\n",
       "        vertical-align: top;\n",
       "    }\n",
       "\n",
       "    .dataframe thead th {\n",
       "        text-align: right;\n",
       "    }\n",
       "</style>\n",
       "<table border=\"1\" class=\"dataframe\">\n",
       "  <thead>\n",
       "    <tr style=\"text-align: right;\">\n",
       "      <th></th>\n",
       "      <th>Dates</th>\n",
       "      <th>Power Station</th>\n",
       "    </tr>\n",
       "  </thead>\n",
       "  <tbody>\n",
       "    <tr>\n",
       "      <th>0</th>\n",
       "      <td>2017-09-01</td>\n",
       "      <td>Delhi</td>\n",
       "    </tr>\n",
       "    <tr>\n",
       "      <th>1</th>\n",
       "      <td>2017-09-01</td>\n",
       "      <td>Haryana</td>\n",
       "    </tr>\n",
       "    <tr>\n",
       "      <th>2</th>\n",
       "      <td>2017-09-01</td>\n",
       "      <td>Himachal Pradesh</td>\n",
       "    </tr>\n",
       "    <tr>\n",
       "      <th>3</th>\n",
       "      <td>2017-09-01</td>\n",
       "      <td>Jammu and Kashmir</td>\n",
       "    </tr>\n",
       "    <tr>\n",
       "      <th>4</th>\n",
       "      <td>2017-09-01</td>\n",
       "      <td>Punjab</td>\n",
       "    </tr>\n",
       "    <tr>\n",
       "      <th>...</th>\n",
       "      <td>...</td>\n",
       "      <td>...</td>\n",
       "    </tr>\n",
       "    <tr>\n",
       "      <th>345268</th>\n",
       "      <td>2022-04-13</td>\n",
       "      <td>Tripura</td>\n",
       "    </tr>\n",
       "    <tr>\n",
       "      <th>345269</th>\n",
       "      <td>2022-04-13</td>\n",
       "      <td>NEEPCO.</td>\n",
       "    </tr>\n",
       "    <tr>\n",
       "      <th>345270</th>\n",
       "      <td>2022-04-13</td>\n",
       "      <td>NHPC</td>\n",
       "    </tr>\n",
       "    <tr>\n",
       "      <th>345271</th>\n",
       "      <td>2022-04-13</td>\n",
       "      <td>NTPC Ltd.</td>\n",
       "    </tr>\n",
       "    <tr>\n",
       "      <th>345272</th>\n",
       "      <td>2022-04-13</td>\n",
       "      <td>ONGC</td>\n",
       "    </tr>\n",
       "  </tbody>\n",
       "</table>\n",
       "<p>345273 rows × 2 columns</p>\n",
       "</div>"
      ],
      "text/plain": [
       "             Dates      Power Station\n",
       "0       2017-09-01              Delhi\n",
       "1       2017-09-01            Haryana\n",
       "2       2017-09-01   Himachal Pradesh\n",
       "3       2017-09-01  Jammu and Kashmir\n",
       "4       2017-09-01             Punjab\n",
       "...            ...                ...\n",
       "345268  2022-04-13            Tripura\n",
       "345269  2022-04-13            NEEPCO.\n",
       "345270  2022-04-13               NHPC\n",
       "345271  2022-04-13          NTPC Ltd.\n",
       "345272  2022-04-13               ONGC\n",
       "\n",
       "[345273 rows x 2 columns]"
      ]
     },
     "execution_count": 12,
     "metadata": {},
     "output_type": "execute_result"
    }
   ],
   "source": [
    "power_station_dates = df[[\"Dates\", \"Power Station\"]]\n",
    "power_station_dates"
   ]
  },
  {
   "cell_type": "code",
   "execution_count": 2,
   "metadata": {},
   "outputs": [],
   "source": [
    "result_graph = graph_to_csv(\n",
    "    filename=\"../data/movies.csv\", # this wasn't supposed to work?\n",
    "    features=[1,3], # character support not avaialable yet\n",
    "    size=2,\n",
    "    row_limit=10\n",
    ")"
   ]
  },
  {
   "cell_type": "code",
   "execution_count": 3,
   "metadata": {},
   "outputs": [
    {
     "name": "stdout",
     "output_type": "stream",
     "text": [
      "{'directed': False,\n",
      " 'edge_count': 20,\n",
      " 'edges': [],\n",
      " 'err': False,\n",
      " 'items': {0: [b'movie_name'],\n",
      "           1: [b'R'],\n",
      "           2: [b'The Godfather',\n",
      "               b'The Silence of the Lambs',\n",
      "               b'The Shawshank Redemption',\n",
      "               b'The Shining',\n",
      "               b\"One Flew Over the Cuckoo's Nest\"],\n",
      "           3: [b'R'],\n",
      "           4: [b'PG'],\n",
      "           5: [b'Star Wars: Episode V - The Empire Strikes Back',\n",
      "               b'Casablanca',\n",
      "               b'Indiana Jones and the Raiders of the Lost Ark'],\n",
      "           6: [b'R'],\n",
      "           7: [b'R'],\n",
      "           8: [b'PG'],\n",
      "           9: [b'R'],\n",
      "           10: [b'PG'],\n",
      "           11: [b'PG-13'],\n",
      "           12: [b'The Lord of the Rings: The Return of the King'],\n",
      "           13: [],\n",
      "           14: [],\n",
      "           15: [],\n",
      "           16: [],\n",
      "           17: [],\n",
      "           18: [],\n",
      "           19: []},\n",
      " 'vertice_count': 20,\n",
      " 'visited_nodes': []}\n"
     ]
    }
   ],
   "source": [
    "pprint(result_graph)"
   ]
  },
  {
   "cell_type": "code",
   "execution_count": 1,
   "metadata": {},
   "outputs": [],
   "source": [
    "import numpy as np\n",
    "from numpy.linalg import inv"
   ]
  },
  {
   "cell_type": "code",
   "execution_count": 2,
   "metadata": {},
   "outputs": [
    {
     "data": {
      "text/plain": [
       "matrix([[1.        , 0.        , 0.        , 0.        , 0.        ,\n",
       "         0.        , 0.        ],\n",
       "        [0.        , 1.        , 0.        , 0.        , 0.        ,\n",
       "         0.        , 0.        ],\n",
       "        [0.        , 0.        , 1.        , 0.        , 0.        ,\n",
       "         0.        , 0.        ],\n",
       "        [0.        , 0.        , 0.        , 0.33333333, 0.        ,\n",
       "         0.        , 0.        ],\n",
       "        [0.        , 0.        , 0.        , 0.        , 0.5       ,\n",
       "         0.        , 0.        ],\n",
       "        [0.        , 0.        , 0.        , 0.        , 0.        ,\n",
       "         0.33333333, 0.        ],\n",
       "        [0.        , 0.        , 0.        , 0.        , 0.        ,\n",
       "         0.        , 1.        ]])"
      ]
     },
     "execution_count": 2,
     "metadata": {},
     "output_type": "execute_result"
    }
   ],
   "source": [
    "D = np.matrix(np.array([[1,0,0,0,0,0,0], [0,1,0,0,0,0,0], [0,0,1,0,0,0,0], [0,0,0,3,0,0,0], [0,0,0,0,2,0,0], [0,0,0,0,0,3,0], [0,0,0,0,0,0,1]]))\n",
    "Dinv = inv(D)\n"
   ]
  },
  {
   "cell_type": "code",
   "execution_count": null,
   "metadata": {},
   "outputs": [],
   "source": []
  }
 ],
 "metadata": {
  "kernelspec": {
   "display_name": "Python 3",
   "language": "python",
   "name": "python3"
  },
  "language_info": {
   "codemirror_mode": {
    "name": "ipython",
    "version": 3
   },
   "file_extension": ".py",
   "mimetype": "text/x-python",
   "name": "python",
   "nbconvert_exporter": "python",
   "pygments_lexer": "ipython3",
   "version": "3.8.10"
  }
 },
 "nbformat": 4,
 "nbformat_minor": 4
}
