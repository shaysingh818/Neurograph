{
 "cells": [
  {
   "cell_type": "code",
   "execution_count": 1,
   "metadata": {},
   "outputs": [],
   "source": [
    "import frame as ng\n",
    "import cython\n",
    "from pprint import pprint"
   ]
  },
  {
   "cell_type": "markdown",
   "metadata": {},
   "source": [
    "# Data Frames\n",
    "Currently data frames can only load csv files. The library is very young and there could be some issues parsing if you have uneven commas etc. "
   ]
  },
  {
   "cell_type": "code",
   "execution_count": 2,
   "metadata": {},
   "outputs": [
    {
     "name": "stdout",
     "output_type": "stream",
     "text": [
      "{'buffer_size': 1024,\n",
      " 'current_row': 10,\n",
      " 'filename': '../examples/data/movies.csv',\n",
      " 'header_count': 9,\n",
      " 'row_count': 0,\n",
      " 'row_limit': 10,\n",
      " 'status': True}\n"
     ]
    }
   ],
   "source": [
    "\n",
    "# create dataframe\n",
    "df = ng.DataFrame(\"../examples/data/movies.csv\", 10)\n",
    "props = df.props()\n",
    "pprint(props)"
   ]
  },
  {
   "cell_type": "markdown",
   "metadata": {},
   "source": [
    "To view the headers, call the `view_headers()` method"
   ]
  },
  {
   "cell_type": "code",
   "execution_count": 6,
   "metadata": {},
   "outputs": [
    {
     "name": "stdout",
     "output_type": "stream",
     "text": [
      "[{'index': 0, 'name': 'index'},\n",
      " {'index': 1, 'name': 'movie_name'},\n",
      " {'index': 2, 'name': 'year_of_release'},\n",
      " {'index': 3, 'name': 'category'},\n",
      " {'index': 4, 'name': 'run_time'},\n",
      " {'index': 5, 'name': 'genre'},\n",
      " {'index': 6, 'name': 'imdb_rating'},\n",
      " {'index': 7, 'name': 'votes'},\n",
      " {'index': 8, 'name': 'gross_total'}]\n"
     ]
    }
   ],
   "source": [
    "headers = df.get_headers()\n",
    "pprint(headers)"
   ]
  },
  {
   "cell_type": "markdown",
   "metadata": {},
   "source": [
    "To view the rows in a dataframe, call the `rows()` method. You can pretty print it using `html()`"
   ]
  },
  {
   "cell_type": "code",
   "execution_count": 5,
   "metadata": {},
   "outputs": [
    {
     "data": {
      "text/html": [
       "<table>\n",
       "<thead>\n",
       "<tr><th style=\"text-align: right;\">  index</th><th>movie_name                                    </th><th>year_of_release  </th><th>category  </th><th>run_time  </th><th>genre                       </th><th style=\"text-align: right;\">  imdb_rating</th><th>votes      </th><th>gross_total  </th></tr>\n",
       "</thead>\n",
       "<tbody>\n",
       "<tr><td style=\"text-align: right;\">      1</td><td>The Godfather                                 </td><td>(1972)           </td><td>R         </td><td>175 min   </td><td>&quot;Crime, Drama&quot;              </td><td style=\"text-align: right;\">          9.2</td><td>&quot;1,860,471&quot;</td><td>$134.97M     </td></tr>\n",
       "<tr><td style=\"text-align: right;\">      2</td><td>The Silence of the Lambs                      </td><td>(1991)           </td><td>R         </td><td>118 min   </td><td>&quot;Crime, Drama, Thriller&quot;    </td><td style=\"text-align: right;\">          8.6</td><td>&quot;1,435,344&quot;</td><td>$130.74M     </td></tr>\n",
       "<tr><td style=\"text-align: right;\">      3</td><td>Star Wars: Episode V - The Empire Strikes Back</td><td>(1980)           </td><td>PG        </td><td>124 min   </td><td>&quot;Action, Adventure, Fantasy&quot;</td><td style=\"text-align: right;\">          8.7</td><td>&quot;1,294,805&quot;</td><td>$290.48M     </td></tr>\n",
       "<tr><td style=\"text-align: right;\">      4</td><td>The Shawshank Redemption                      </td><td>(1994)           </td><td>R         </td><td>142 min   </td><td>Drama                       </td><td style=\"text-align: right;\">          9.3</td><td>&quot;2,683,302&quot;</td><td>$28.34M      </td></tr>\n",
       "<tr><td style=\"text-align: right;\">      5</td><td>The Shining                                   </td><td>(1980)           </td><td>R         </td><td>146 min   </td><td>&quot;Drama, Horror&quot;             </td><td style=\"text-align: right;\">          8.4</td><td>&quot;1,025,560&quot;</td><td>$44.02M      </td></tr>\n",
       "<tr><td style=\"text-align: right;\">      6</td><td>Casablanca                                    </td><td>(1942)           </td><td>PG        </td><td>102 min   </td><td>&quot;Drama, Romance, War&quot;       </td><td style=\"text-align: right;\">          8.5</td><td>&quot;574,092&quot;  </td><td>$1.02M       </td></tr>\n",
       "<tr><td style=\"text-align: right;\">      7</td><td>One Flew Over the Cuckoo&#x27;s Nest               </td><td>(1975)           </td><td>R         </td><td>133 min   </td><td>Drama                       </td><td style=\"text-align: right;\">          8.7</td><td>&quot;1,010,102&quot;</td><td>$112.00M     </td></tr>\n",
       "<tr><td style=\"text-align: right;\">      8</td><td>Indiana Jones and the Raiders of the Lost Ark </td><td>(1981)           </td><td>PG        </td><td>115 min   </td><td>&quot;Action, Adventure&quot;         </td><td style=\"text-align: right;\">          8.4</td><td>&quot;969,143&quot;  </td><td>$248.16M     </td></tr>\n",
       "<tr><td style=\"text-align: right;\">      9</td><td>The Lord of the Rings: The Return of the King </td><td>(2003)           </td><td>PG-13     </td><td>201 min   </td><td>&quot;Action, Adventure, Drama&quot;  </td><td style=\"text-align: right;\">          9  </td><td>&quot;1,849,082&quot;</td><td>$377.85M     </td></tr>\n",
       "<tr><td style=\"text-align: right;\">     10</td><td>Star Wars: Episode IV - A New Hope            </td><td>(1977)           </td><td>PG        </td><td>121 min   </td><td>&quot;Action, Adventure, Fantasy&quot;</td><td style=\"text-align: right;\">          8.6</td><td>&quot;1,367,430&quot;</td><td>$322.74M     </td></tr>\n",
       "</tbody>\n",
       "</table>"
      ],
      "text/plain": [
       "'<table>\\n<thead>\\n<tr><th style=\"text-align: right;\">  index</th><th>movie_name                                    </th><th>year_of_release  </th><th>category  </th><th>run_time  </th><th>genre                       </th><th style=\"text-align: right;\">  imdb_rating</th><th>votes      </th><th>gross_total  </th></tr>\\n</thead>\\n<tbody>\\n<tr><td style=\"text-align: right;\">      1</td><td>The Godfather                                 </td><td>(1972)           </td><td>R         </td><td>175 min   </td><td>&quot;Crime, Drama&quot;              </td><td style=\"text-align: right;\">          9.2</td><td>&quot;1,860,471&quot;</td><td>$134.97M     </td></tr>\\n<tr><td style=\"text-align: right;\">      2</td><td>The Silence of the Lambs                      </td><td>(1991)           </td><td>R         </td><td>118 min   </td><td>&quot;Crime, Drama, Thriller&quot;    </td><td style=\"text-align: right;\">          8.6</td><td>&quot;1,435,344&quot;</td><td>$130.74M     </td></tr>\\n<tr><td style=\"text-align: right;\">      3</td><td>Star Wars: Episode V - The Empire Strikes Back</td><td>(1980)           </td><td>PG        </td><td>124 min   </td><td>&quot;Action, Adventure, Fantasy&quot;</td><td style=\"text-align: right;\">          8.7</td><td>&quot;1,294,805&quot;</td><td>$290.48M     </td></tr>\\n<tr><td style=\"text-align: right;\">      4</td><td>The Shawshank Redemption                      </td><td>(1994)           </td><td>R         </td><td>142 min   </td><td>Drama                       </td><td style=\"text-align: right;\">          9.3</td><td>&quot;2,683,302&quot;</td><td>$28.34M      </td></tr>\\n<tr><td style=\"text-align: right;\">      5</td><td>The Shining                                   </td><td>(1980)           </td><td>R         </td><td>146 min   </td><td>&quot;Drama, Horror&quot;             </td><td style=\"text-align: right;\">          8.4</td><td>&quot;1,025,560&quot;</td><td>$44.02M      </td></tr>\\n<tr><td style=\"text-align: right;\">      6</td><td>Casablanca                                    </td><td>(1942)           </td><td>PG        </td><td>102 min   </td><td>&quot;Drama, Romance, War&quot;       </td><td style=\"text-align: right;\">          8.5</td><td>&quot;574,092&quot;  </td><td>$1.02M       </td></tr>\\n<tr><td style=\"text-align: right;\">      7</td><td>One Flew Over the Cuckoo&#x27;s Nest               </td><td>(1975)           </td><td>R         </td><td>133 min   </td><td>Drama                       </td><td style=\"text-align: right;\">          8.7</td><td>&quot;1,010,102&quot;</td><td>$112.00M     </td></tr>\\n<tr><td style=\"text-align: right;\">      8</td><td>Indiana Jones and the Raiders of the Lost Ark </td><td>(1981)           </td><td>PG        </td><td>115 min   </td><td>&quot;Action, Adventure&quot;         </td><td style=\"text-align: right;\">          8.4</td><td>&quot;969,143&quot;  </td><td>$248.16M     </td></tr>\\n<tr><td style=\"text-align: right;\">      9</td><td>The Lord of the Rings: The Return of the King </td><td>(2003)           </td><td>PG-13     </td><td>201 min   </td><td>&quot;Action, Adventure, Drama&quot;  </td><td style=\"text-align: right;\">          9  </td><td>&quot;1,849,082&quot;</td><td>$377.85M     </td></tr>\\n<tr><td style=\"text-align: right;\">     10</td><td>Star Wars: Episode IV - A New Hope            </td><td>(1977)           </td><td>PG        </td><td>121 min   </td><td>&quot;Action, Adventure, Fantasy&quot;</td><td style=\"text-align: right;\">          8.6</td><td>&quot;1,367,430&quot;</td><td>$322.74M     </td></tr>\\n</tbody>\\n</table>'"
      ]
     },
     "execution_count": 5,
     "metadata": {},
     "output_type": "execute_result"
    }
   ],
   "source": [
    "rows = df.rows() # returns dictionary\n",
    "df.html()"
   ]
  }
 ],
 "metadata": {
  "kernelspec": {
   "display_name": "Python 3",
   "language": "python",
   "name": "python3"
  },
  "language_info": {
   "codemirror_mode": {
    "name": "ipython",
    "version": 3
   },
   "file_extension": ".py",
   "mimetype": "text/x-python",
   "name": "python",
   "nbconvert_exporter": "python",
   "pygments_lexer": "ipython3",
   "version": "3.8.10"
  }
 },
 "nbformat": 4,
 "nbformat_minor": 2
}
